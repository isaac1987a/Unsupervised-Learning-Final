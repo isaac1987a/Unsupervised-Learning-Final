{
 "cells": [
  {
   "cell_type": "markdown",
   "id": "95e3e17d-dca0-47fb-bb08-b937506f2ec7",
   "metadata": {},
   "source": [
    "# Hate Speach Detection\n",
    "I want to build an algorithim to detect hate speach.  This will use the Ethos hate speach dataset at https://www.kaggle.com/datasets/konradb/ethos-hate-speech-dataset.  "
   ]
  },
  {
   "cell_type": "code",
   "execution_count": 1,
   "id": "c222a22a-d816-4d91-b317-0908f884f906",
   "metadata": {},
   "outputs": [],
   "source": [
    "import pandas as pd"
   ]
  },
  {
   "cell_type": "code",
   "execution_count": 11,
   "id": "a7927248-8812-484d-97e0-e26c4530a697",
   "metadata": {},
   "outputs": [
    {
     "name": "stdout",
     "output_type": "stream",
     "text": [
      "                                               comment  isHate\n",
      "0            You should know women's sports are a joke     1.0\n",
      "1      You look like Sloth with deeper Down’s syndrome     1.0\n",
      "2    You look like Russian and speak like Indian. B...     1.0\n",
      "3                 Women deserve to be abused, I guess.     1.0\n",
      "4    Women are made for making babies and cooking d...     1.0\n",
      "..                                                 ...     ...\n",
      "993   From the midnight sun where the hot springs blow     0.0\n",
      "994                        Don't say I'm not your type     0.0\n",
      "995   And therefore never send to know for whom the...     0.0\n",
      "996                      And I can't stand another day     0.0\n",
      "997   All values, unless otherwise stated, are in U...     0.0\n",
      "\n",
      "[998 rows x 2 columns]\n",
      "                                               comment  violence  \\\n",
      "0            You should know women's sports are a joke  0.000000   \n",
      "1      You look like Sloth with deeper Down’s syndrome  0.000000   \n",
      "2    You look like Russian and speak like Indian. B...  1.000000   \n",
      "3                 Women deserve to be abused, I guess.  0.666667   \n",
      "4    Women are made for making babies and cooking d...  0.000000   \n",
      "..                                                 ...       ...   \n",
      "428  All people are fucked up because of these quee...  0.000000   \n",
      "429  Actually THIS WEIRD PEOPLE are HARMFUL! They n...  0.000000   \n",
      "430  ABU DA BI ABA DU BA BA HAMUD! See? I’m an arab...  0.000000   \n",
      "431  a homo? so you fuck your brother instead of yo...  0.000000   \n",
      "432  (((They))) will be chased out of every white c...  0.333333   \n",
      "\n",
      "     directed_vs_generalized    gender      race  national_origin  disability  \\\n",
      "0                   0.000000  1.000000  0.000000         0.000000    0.000000   \n",
      "1                   0.833333  0.000000  0.000000         0.000000    1.000000   \n",
      "2                   0.500000  0.142857  0.142857         0.714286    0.000000   \n",
      "3                   0.166667  1.000000  0.000000         0.000000    0.000000   \n",
      "4                   0.000000  1.000000  0.000000         0.000000    0.000000   \n",
      "..                       ...       ...       ...              ...         ...   \n",
      "428                 0.000000  0.571429  0.000000         0.000000    0.000000   \n",
      "429                 1.000000  0.000000  0.000000         0.333333    0.666667   \n",
      "430                 0.000000  0.000000  0.285714         0.000000    0.000000   \n",
      "431                 0.666667  0.000000  0.000000         0.000000    0.000000   \n",
      "432                 0.000000  0.000000  0.666667         0.000000    0.000000   \n",
      "\n",
      "     religion  sexual_orientation  \n",
      "0    0.000000            0.000000  \n",
      "1    0.000000            0.000000  \n",
      "2    0.000000            0.000000  \n",
      "3    0.000000            0.000000  \n",
      "4    0.000000            0.000000  \n",
      "..        ...                 ...  \n",
      "428  0.000000            0.571429  \n",
      "429  0.000000            0.000000  \n",
      "430  0.857143            0.000000  \n",
      "431  0.000000            1.000000  \n",
      "432  0.333333            0.000000  \n",
      "\n",
      "[433 rows x 9 columns]\n"
     ]
    }
   ],
   "source": [
    "raw_data = pd.read_csv(\"Data/labeled\", sep = \";\", header = 0)\n",
    "print(binary_data)"
   ]
  },
  {
   "cell_type": "code",
   "execution_count": null,
   "id": "79c0dbe5-6ee5-4fea-a6cc-fad86f398177",
   "metadata": {},
   "outputs": [],
   "source": []
  },
  {
   "cell_type": "code",
   "execution_count": null,
   "id": "e5093c7e-fbd8-468e-ab66-ed5ff5cfb432",
   "metadata": {},
   "outputs": [],
   "source": []
  }
 ],
 "metadata": {
  "kernelspec": {
   "display_name": "Python 3 (ipykernel)",
   "language": "python",
   "name": "python3"
  },
  "language_info": {
   "codemirror_mode": {
    "name": "ipython",
    "version": 3
   },
   "file_extension": ".py",
   "mimetype": "text/x-python",
   "name": "python",
   "nbconvert_exporter": "python",
   "pygments_lexer": "ipython3",
   "version": "3.11.3"
  }
 },
 "nbformat": 4,
 "nbformat_minor": 5
}
