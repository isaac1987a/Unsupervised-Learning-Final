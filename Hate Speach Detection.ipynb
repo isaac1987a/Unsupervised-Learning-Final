{
 "cells": [
  {
   "cell_type": "code",
   "execution_count": 1,
   "metadata": {
    "collapsed": false,
    "jupyter": {
     "outputs_hidden": false
    },
    "tags": []
   },
   "outputs": [],
   "source": [
    "#General Imports\n",
    "import pandas as pd\n",
    "import numpy as np\n",
    "import re\n",
    "from sklearn.feature_extraction.text import TfidfVectorizer\n",
    "import statistics\n",
    "from collections import Counter\n",
    "#EDA Imports\n",
    "from sklearn.manifold import TSNE\n",
    "import matplotlib.pyplot as plt\n",
    "import seaborn as sns\n",
    "from random import sample\n",
    "from sklearn.metrics import recall_score, precision_score, f1_score\n",
    "import cuml, cupy, cudf\n",
    "from cupyx.scipy import sparse as cusparse\n",
    "from cupyx.scipy.sparse.linalg import svds as cusvds\n",
    "#Model build Imports\n",
    "from sklearn.cluster import DBSCAN\n",
    "from scipy import sparse\n",
    "from sklearn.neighbors import NearestNeighbors\n",
    "from sklearn.decomposition import TruncatedSVD \n",
    "from sklearn.metrics import silhouette_samples, silhouette_score\n",
    "from sklearn.cluster import KMeans\n",
    "import datetime\n",
    "import warnings\n",
    "warnings.simplefilter(action='ignore', category=FutureWarning)"
   ]
  },
  {
   "cell_type": "markdown",
   "metadata": {},
   "source": [
    "# Hate Speech Detection\n",
    "\n",
    "I want to build an algorithim to  categorize tweets.  This will use the Hate Speach and Offensive Language dataset at [https://www.kaggle.com/datasets/mrmorj/hate\\-speech\\-and\\-offensive\\-language\\-dataset?select=labeled\\_data.csv](https://www.kaggle.com/datasets/mrmorj/hate-speech-and-offensive-language-dataset?select=labeled_data.csv).  This dataset is 24782 tweets long with users voting on if the tweet is offensive 0, hate speach 1 or neither 2, with the winning label being selected as a class.  \n",
    "\n",
    "## Goal\n",
    "\n",
    "My goal is to identify groupings of tweets based on topic.  With 27k+  tweets, I should be able to find 30-50 groups based on topics.\n",
    "\n",
    "## Approach\n",
    "\n",
    "I am planning to use a combination of TF-IDF, matrix factorization, and clustering algorithims to tweets by 1 and 2 word clusters.  I will then create similarity tables and use rainbow clustering to find groups of tweets.\n",
    "\n",
    "### Disclaimer\n",
    "\n",
    "This assignment necessary contains hate speach, and offensive langauge.  This does not represent the views of the author.\n",
    "\n",
    "## Import and Cleaning\n",
    "\n",
    "### Import\n",
    "\n",
    "This data imports fairly easily.  I donloaded a copy of the file from kaggle and mirrored it to my GitHub so I could autodownload it for your use.\n",
    "\n",
    "### Data Description\n",
    "\n",
    "The data concists of 24782 tweets which have been user labeled as either hate, offensive, or neither, along with a total cont of votes."
   ]
  },
  {
   "cell_type": "code",
   "execution_count": 2,
   "metadata": {
    "collapsed": false,
    "jupyter": {
     "outputs_hidden": false
    },
    "tags": []
   },
   "outputs": [
    {
     "name": "stdout",
     "output_type": "stream",
     "text": [
      "       Unnamed: 0  count  hate_speech  offensive_language  neither  class  \\\n",
      "0               0      3            0                   0        3      2   \n",
      "1               1      3            0                   3        0      1   \n",
      "2               2      3            0                   3        0      1   \n",
      "3               3      3            0                   2        1      1   \n",
      "4               4      6            0                   6        0      1   \n",
      "...           ...    ...          ...                 ...      ...    ...   \n",
      "24778       25291      3            0                   2        1      1   \n",
      "24779       25292      3            0                   1        2      2   \n",
      "24780       25294      3            0                   3        0      1   \n",
      "24781       25295      6            0                   6        0      1   \n",
      "24782       25296      3            0                   0        3      2   \n",
      "\n",
      "                                                   tweet  \n",
      "0      !!! RT @mayasolovely: As a woman you shouldn't...  \n",
      "1      !!!!! RT @mleew17: boy dats cold...tyga dwn ba...  \n",
      "2      !!!!!!! RT @UrKindOfBrand Dawg!!!! RT @80sbaby...  \n",
      "3      !!!!!!!!! RT @C_G_Anderson: @viva_based she lo...  \n",
      "4      !!!!!!!!!!!!! RT @ShenikaRoberts: The shit you...  \n",
      "...                                                  ...  \n",
      "24778  you's a muthaf***in lie &#8220;@LifeAsKing: @2...  \n",
      "24779  you've gone and broke the wrong heart baby, an...  \n",
      "24780  young buck wanna eat!!.. dat nigguh like I ain...  \n",
      "24781              youu got wild bitches tellin you lies  \n",
      "24782  ~~Ruffled | Ntac Eileen Dahlia - Beautiful col...  \n",
      "\n",
      "[24783 rows x 7 columns]\n"
     ]
    }
   ],
   "source": [
    "#Initial Import\n",
    "raw_data = pd.read_csv('Data/labeled_data.csv', header = 0)\n",
    "print(raw_data)\n",
    "raw_data = raw_data.drop(columns = 'Unnamed: 0')"
   ]
  },
  {
   "cell_type": "code",
   "execution_count": 3,
   "metadata": {
    "collapsed": false,
    "jupyter": {
     "outputs_hidden": false
    },
    "tags": []
   },
   "outputs": [
    {
     "data": {
      "text/plain": [
       "Text(0.5, 1.0, 'Top 30 Most Common Words')"
      ]
     },
     "execution_count": 3,
     "metadata": {},
     "output_type": "execute_result"
    },
    {
     "data": {
      "image/png": "[encoded data removed]",
      "text/plain": [
       "<Figure size 1500x700 with 1 Axes>"
      ]
     },
     "metadata": {},
     "output_type": "display_data"
    }
   ],
   "source": [
    "bad_words = (Counter(\" \".join(raw_data['tweet']).split()).most_common(30))\n",
    "bad_words = list(zip(*bad_words))\n",
    "fig, ax = plt.subplots(figsize=(15, 7))\n",
    "sns.barplot(x = list(bad_words[0]), y = list(bad_words[1]), ax=ax, alpha = .7).set_title(\"Top 30 Most Common Words\")"
   ]
  },
  {
   "cell_type": "markdown",
   "metadata": {},
   "source": [
    "### Cleaning\n",
    "\n",
    "#### **Tweets with newline**\n",
    "\n",
    "There appears to be a mismatch between the number of lines generated and the number of lines imported.  This is caused by newline characters, commas, quotation marks, and other supidity mixed in.  I chose to build my own parser to deal with all the issues and allow me to deal with the various problems with the data.\\\n",
    "**Update**\\\n",
    "There are skipped tweet numbers with no indicator in the dataset other than looking.\n",
    "\n",
    "##### **Some examples of problematic formating.**\n",
    "\n",
    "22422,3,0,3,0,1,\"This bitch fell straight through the chair... Im high, of course I laughed..\\\n",
    "\\\n",
    "\\\n",
    "\\\n",
    "Even if I wasn't I would've still laughed.\"\n",
    "\n",
    "256,3,0,3,0,1,\"\"\"@TheNewSAT: #NewSATQuestions\\\n",
    "Yeah bitch, yeah bitch, call me _______:\\\n",
    "a.) Maybe\\\n",
    "b.) Steve-O\\\n",
    "c.) Later\\\n",
    "d.) Jesse Pinkman\"\"\\\n",
    "@machinegunkelly\"\n",
    "\n",
    "#### **Username Cleanup**\n",
    "\n",
    "I chose to just drop all usernames.  This is due to usernames being random characters and it's out of scope for this project to try to do abusive username detection.\n",
    "\n",
    "#### **Unicode Characters, numbers, and non-text characters**\n",
    "\n",
    "I also chose to drop all unicode characters (Doing this save soo much time), numbers and most non-text characters.  The exception was the \"*\" character.  The * character is used to mask offensive words and when used, the resulting word length is fairly standard.\n",
    "\n",
    "#### ReTweets\n",
    "I chose to remove the retweet \"RT\" from the dataset.  This may be able to be used as a category for other analasys but is not needed in this research.\n",
    "\n",
    "\n"
   ]
  },
  {
   "cell_type": "code",
   "execution_count": 4,
   "metadata": {
    "collapsed": false,
    "jupyter": {
     "outputs_hidden": false
    },
    "scrolled": true,
    "tags": []
   },
   "outputs": [
    {
     "name": "stdout",
     "output_type": "stream",
     "text": [
      "0         as a woman you shouldn complain about cleanin...\n",
      "1         boy dats cold tyga dwn bad for cuffin dat hoe...\n",
      "2         you ever fuck a bitch and she sta to cry you ...\n",
      "3                        viva based she look like a tranny\n",
      "4         the shit you hear about me might be true or i...\n",
      "                               ...                        \n",
      "24778    you a muthaf***in lie pearls corey emanuel rig...\n",
      "24779    you ve gone and broke the wrong hea baby and d...\n",
      "24780    young buck wanna eat dat nigguh like i aint fu...\n",
      "24781                youu got wild bitches tellin you lies\n",
      "24782     ruffled ntac eileen dahlia beautiful color co...\n",
      "Name: tweet, Length: 24783, dtype: object\n"
     ]
    }
   ],
   "source": [
    "def text_cleanup(text):\n",
    "    #Remove usernames replace @xxx: with whitespace\n",
    "    text = re.sub(r\"@.*?:\", \" \", text)\n",
    "    #remove unicode characters\n",
    "    text = re.sub(r\"&#[0-9]{1,6};\", \" \", text)\n",
    "    #lowercase all text\n",
    "    text = text.lower()\n",
    "    #remove URL's\n",
    "    text = re.sub(r'http[s]?:\\/\\/.*?\"', \" \", text)\n",
    "    #remove special characters and numberrs'\n",
    "    #I chose to leave in *'s as they are a common manipulation to get around filters\n",
    "    text = re.sub(r\"[^a-z\\*]\", \" \", text)\n",
    "    #remove \"RT\"\n",
    "    text = re.sub(r\"\\bRT\\b\", \"\", text)\n",
    "    text = re.sub(r\"rt\\b\", \"\", text)\n",
    "    #remove lone T and S\n",
    "    text = re.sub(r\"\\b(t|s|m)\\b\", \"\", text)\n",
    "    #Remove Residual HTTP\n",
    "    text = re.sub(r\"\\b(http[s]?|co[m]?)\\b\", \"\", text)\n",
    "    #remove repeat whitespace and newlines\n",
    "    text = re.sub(r\"\\s\\s+\", \" \", text)\n",
    "    text = re.sub(r\"\\n+\", \"\", text)\n",
    "    return text\n",
    "    \n",
    "\n",
    "raw_data[\"tweet\"] = raw_data[\"tweet\"].apply(text_cleanup)\n",
    "print(raw_data['tweet'])\n"
   ]
  },
  {
   "cell_type": "markdown",
   "metadata": {},
   "source": [
    "# EDA\n",
    "\n",
    "### Basic Characteristics\n",
    "\n",
    "The average character count of the uncleaned tweets is 85.  The average word count is 14.  \n",
    "Number of words in each class: 1: Offensive Language 19190, 2: None 4163, 0: Hate Speech 1430.  This skew means that 1 category accounts for 70% of tweets and will heavily skew any classification attempts.\n"
   ]
  },
  {
   "cell_type": "code",
   "execution_count": 5,
   "metadata": {
    "collapsed": false,
    "jupyter": {
     "outputs_hidden": false
    },
    "tags": []
   },
   "outputs": [
    {
     "name": "stdout",
     "output_type": "stream",
     "text": [
      "Mean Charater Count: 68.39184118145504\n",
      "Mean Word Count: 14.294637453092847\n",
      "Basic Data CharasiticsCounter({1: 19190, 2: 4163, 0: 1430})\n",
      "30 Most common words.\n",
      "68.39184118145504\n"
     ]
    },
    {
     "data": {
      "text/plain": [
       "Text(0.5, 1.0, 'Top 30 Most Common Words')"
      ]
     },
     "execution_count": 5,
     "metadata": {},
     "output_type": "execute_result"
    },
    {
     "data": {
      "image/png": "[encoded data removed]",
      "text/plain": [
       "<Figure size 700x700 with 1 Axes>"
      ]
     },
     "metadata": {},
     "output_type": "display_data"
    },
    {
     "data": {
      "image/png": "[encoded data removed]",
      "text/plain": [
       "<Figure size 1500x700 with 1 Axes>"
      ]
     },
     "metadata": {},
     "output_type": "display_data"
    }
   ],
   "source": [
    "print(\"Mean Charater Count: \" + str(statistics.mean(raw_data['tweet'].str.len())))\n",
    "print(\"Mean Word Count: \" + str(np.mean(raw_data['tweet'].apply(lambda x: len([words for words in x.split(\" \") if isinstance(x, str)])))))\n",
    "print(\"Basic Data Charasitics\" + str(Counter(raw_data['class'])))\n",
    "print(\"30 Most common words.\")\n",
    "bad_words = (Counter(\" \".join(raw_data['tweet']).split()).most_common(30))\n",
    "bad_words = list(zip(*bad_words))\n",
    "print(statistics.mean(raw_data['tweet'].str.len()))\n",
    "fig, ax = plt.subplots(figsize=(7, 7))\n",
    "keys = list(Counter(raw_data['class']).keys())\n",
    "vals = [Counter(raw_data['class'])[k] for k in keys]\n",
    "sns.barplot(x=keys, y=vals, ax=ax).set_title(\"Tweets by Class\")\n",
    "fig, ax = plt.subplots(figsize=(15, 7))\n",
    "sns.barplot(x = list(bad_words[0]), y = list(bad_words[1]), ax=ax).set_title(\"Top 30 Most Common Words\")"
   ]
  },
  {
   "cell_type": "markdown",
   "metadata": {},
   "source": [
    "## EDA Procedure\n",
    "\n",
    "### Basic Data Charaistics After Cleanup\n",
    "\n",
    "A tweet at the time of this data being collected can contain at maxiumum 280 Characters.  \n",
    "\n",
    "### Formatting Data\n",
    "\n",
    "I will start with dropping all the non-tweet columns.  This will be blind learning.\n",
    "\n",
    "### Bagging\n",
    "\n",
    "I chose to use TF\\-IDF for my bagging procedure.  I am testing using unigrams single words only.  I may retest this using bigrams later., and am removing common English stopwords.  I decided not to restrict common words as the most common words are 27%.  I may experiment with this later.  \n",
    "\n",
    "Exploratory analays was done on unigrams and bigrams.  \n",
    "\n",
    "### DBSCAN\n",
    "\n",
    "DBSCAN or Density\\-Based Spatial Clustering of Applications with Noise is a clustering algorithm that uses the density of datapoints to classify objects.  In this case, I'm using DBSCAN to provide coloring of my graphed results.  Although I will use it later for actual model building, I am using it here to provide color differences.\n"
   ]
  },
  {
   "cell_type": "markdown",
   "metadata": {},
   "source": [
    "That's not good.  All of the data seems to be in 1 large clump.  That will not do for classification.  I can try to get rid of the outliers, or I can try to clean the data.  I will try both. \n",
    "\n",
    "### Attempt to get rid of highly common elements.\n",
    "\n",
    "In this I will rerun the TF\\-IDF with a maximum document frequency of .2 and .15 and see if I get a better spread.  This change reduced the spacing between the 2 sets of elements.  \n",
    "\n"
   ]
  },
  {
   "cell_type": "code",
   "execution_count": 6,
   "metadata": {
    "collapsed": false,
    "jupyter": {
     "outputs_hidden": false
    },
    "tags": []
   },
   "outputs": [],
   "source": [
    "def TF_IDF(tweets, ngram_range, max_df):\n",
    "    tfidf = TfidfVectorizer(input='content', encoding='utf-8', \\\n",
    "                            decode_error='strict', strip_accents='ascii', \\\n",
    "                            lowercase=True, preprocessor=None, tokenizer=None, \\\n",
    "                            analyzer='word', stop_words='english',  \\\n",
    "                            ngram_range=(ngram_range, ngram_range),max_df = max_df, max_features=None,\\\n",
    "                            vocabulary=None, binary=False, norm='l2', \\\n",
    "                            use_idf=True, smooth_idf=True, sublinear_tf=False)\n",
    "    tfidf = tfidf.fit(tweets)\n",
    "    tfidf_data = tfidf.transform(tweets)\n",
    "    return tfidf_data\n",
    "\n",
    "def TSNE_Process(tfidf_data, gram_size, k_val):\n",
    "    tsne_results = TSNE(n_components=2, learning_rate='auto'\\\n",
    "                                 ,init='random', perplexity=30, n_iter = 600,\\\n",
    "                            n_jobs = -1).fit_transform(tfidf_data)\n",
    "    tsne_results = pd.DataFrame(tsne_results, columns = ['x', 'y'])\n",
    "    tsne_results['gram_size'] = gram_size\n",
    "    tsne_results['k'] = k_val\n",
    "    #print(tsne_results)\n",
    "    return tsne_results\n",
    "\n",
    "def build_model(tsne_results):\n",
    "    #print(tsne_results.shape)\n",
    "    dbscan = DBSCAN(eps=2.0, min_samples=100,\\\n",
    "                    metric='euclidean')\n",
    "\n",
    "    tsne_results['predict'] = dbscan.fit_predict(tsne_results.drop(columns = ['gram_size', 'k']),\\\n",
    "                                                 tsne_results.drop(columns = ['gram_size', 'k']))\n",
    "    tsne_results['predict'] = tsne_results['predict'].where(tsne_results['predict'] == 0, 1)\n",
    "    #print(model_data['predict'].value_counts())\n",
    "    #print(tsne_results)\n",
    "    return tsne_results\n"
   ]
  },
  {
   "cell_type": "code",
   "execution_count": 7,
   "metadata": {
    "collapsed": false,
    "jupyter": {
     "outputs_hidden": false
    },
    "tags": []
   },
   "outputs": [
    {
     "ename": "KeyboardInterrupt",
     "evalue": "",
     "output_type": "error",
     "traceback": [
      "\u001b[0;31m---------------------------------------------------------------------------\u001b[0m",
      "\u001b[0;31mKeyboardInterrupt\u001b[0m                         Traceback (most recent call last)",
      "Cell \u001b[0;32mIn[7], line 12\u001b[0m\n\u001b[1;32m      6\u001b[0m     \u001b[38;5;28;01mfor\u001b[39;00m k_val \u001b[38;5;129;01min\u001b[39;00m k_values:\n\u001b[1;32m      7\u001b[0m         \u001b[38;5;66;03m#print (ms)\u001b[39;00m\n\u001b[1;32m      8\u001b[0m         \u001b[38;5;66;03m#print(model_size[ms])\u001b[39;00m\n\u001b[1;32m      9\u001b[0m         \u001b[38;5;66;03m#print(k_val)\u001b[39;00m\n\u001b[1;32m     11\u001b[0m         TF_IDF_output \u001b[38;5;241m=\u001b[39m TF_IDF(raw_data[\u001b[38;5;124m'\u001b[39m\u001b[38;5;124mtweet\u001b[39m\u001b[38;5;124m'\u001b[39m],model_size[ms] , k_val)\n\u001b[0;32m---> 12\u001b[0m         TSNE_output \u001b[38;5;241m=\u001b[39m \u001b[43mTSNE_Process\u001b[49m\u001b[43m(\u001b[49m\u001b[43mTF_IDF_output\u001b[49m\u001b[43m,\u001b[49m\u001b[43m \u001b[49m\u001b[43mms\u001b[49m\u001b[43m,\u001b[49m\u001b[43m \u001b[49m\u001b[43mk_val\u001b[49m\u001b[43m)\u001b[49m\n\u001b[1;32m     13\u001b[0m         model_data \u001b[38;5;241m=\u001b[39m pd\u001b[38;5;241m.\u001b[39mconcat([build_model(TSNE_output), model_data], axis \u001b[38;5;241m=\u001b[39m \u001b[38;5;241m0\u001b[39m)\n\u001b[1;32m     14\u001b[0m model_data\u001b[38;5;241m.\u001b[39mto_csv(\u001b[38;5;124m\"\u001b[39m\u001b[38;5;124mData/TSNE_Model.csv\u001b[39m\u001b[38;5;124m\"\u001b[39m)\n",
      "Cell \u001b[0;32mIn[6], line 16\u001b[0m, in \u001b[0;36mTSNE_Process\u001b[0;34m(tfidf_data, gram_size, k_val)\u001b[0m\n\u001b[1;32m     13\u001b[0m \u001b[38;5;28;01mdef\u001b[39;00m \u001b[38;5;21mTSNE_Process\u001b[39m(tfidf_data, gram_size, k_val):\n\u001b[1;32m     14\u001b[0m     tsne_results \u001b[38;5;241m=\u001b[39m \u001b[43mTSNE\u001b[49m\u001b[43m(\u001b[49m\u001b[43mn_components\u001b[49m\u001b[38;5;241;43m=\u001b[39;49m\u001b[38;5;241;43m2\u001b[39;49m\u001b[43m,\u001b[49m\u001b[43m \u001b[49m\u001b[43mlearning_rate\u001b[49m\u001b[38;5;241;43m=\u001b[39;49m\u001b[38;5;124;43m'\u001b[39;49m\u001b[38;5;124;43mauto\u001b[39;49m\u001b[38;5;124;43m'\u001b[39;49m\u001b[43m\\\u001b[49m\n\u001b[1;32m     15\u001b[0m \u001b[43m                                 \u001b[49m\u001b[43m,\u001b[49m\u001b[43minit\u001b[49m\u001b[38;5;241;43m=\u001b[39;49m\u001b[38;5;124;43m'\u001b[39;49m\u001b[38;5;124;43mrandom\u001b[39;49m\u001b[38;5;124;43m'\u001b[39;49m\u001b[43m,\u001b[49m\u001b[43m \u001b[49m\u001b[43mperplexity\u001b[49m\u001b[38;5;241;43m=\u001b[39;49m\u001b[38;5;241;43m30\u001b[39;49m\u001b[43m,\u001b[49m\u001b[43m \u001b[49m\u001b[43mn_iter\u001b[49m\u001b[43m \u001b[49m\u001b[38;5;241;43m=\u001b[39;49m\u001b[43m \u001b[49m\u001b[38;5;241;43m600\u001b[39;49m\u001b[43m,\u001b[49m\u001b[43m\\\u001b[49m\n\u001b[0;32m---> 16\u001b[0m \u001b[43m                            \u001b[49m\u001b[43mn_jobs\u001b[49m\u001b[43m \u001b[49m\u001b[38;5;241;43m=\u001b[39;49m\u001b[43m \u001b[49m\u001b[38;5;241;43m-\u001b[39;49m\u001b[38;5;241;43m1\u001b[39;49m\u001b[43m)\u001b[49m\u001b[38;5;241;43m.\u001b[39;49m\u001b[43mfit_transform\u001b[49m\u001b[43m(\u001b[49m\u001b[43mtfidf_data\u001b[49m\u001b[43m)\u001b[49m\n\u001b[1;32m     17\u001b[0m     tsne_results \u001b[38;5;241m=\u001b[39m pd\u001b[38;5;241m.\u001b[39mDataFrame(tsne_results, columns \u001b[38;5;241m=\u001b[39m [\u001b[38;5;124m'\u001b[39m\u001b[38;5;124mx\u001b[39m\u001b[38;5;124m'\u001b[39m, \u001b[38;5;124m'\u001b[39m\u001b[38;5;124my\u001b[39m\u001b[38;5;124m'\u001b[39m])\n\u001b[1;32m     18\u001b[0m     tsne_results[\u001b[38;5;124m'\u001b[39m\u001b[38;5;124mgram_size\u001b[39m\u001b[38;5;124m'\u001b[39m] \u001b[38;5;241m=\u001b[39m gram_size\n",
      "File \u001b[0;32m/opt/conda/lib/python3.10/site-packages/sklearn/manifold/_t_sne.py:1117\u001b[0m, in \u001b[0;36mTSNE.fit_transform\u001b[0;34m(self, X, y)\u001b[0m\n\u001b[1;32m   1115\u001b[0m \u001b[38;5;28mself\u001b[39m\u001b[38;5;241m.\u001b[39m_validate_params()\n\u001b[1;32m   1116\u001b[0m \u001b[38;5;28mself\u001b[39m\u001b[38;5;241m.\u001b[39m_check_params_vs_input(X)\n\u001b[0;32m-> 1117\u001b[0m embedding \u001b[38;5;241m=\u001b[39m \u001b[38;5;28;43mself\u001b[39;49m\u001b[38;5;241;43m.\u001b[39;49m\u001b[43m_fit\u001b[49m\u001b[43m(\u001b[49m\u001b[43mX\u001b[49m\u001b[43m)\u001b[49m\n\u001b[1;32m   1118\u001b[0m \u001b[38;5;28mself\u001b[39m\u001b[38;5;241m.\u001b[39membedding_ \u001b[38;5;241m=\u001b[39m embedding\n\u001b[1;32m   1119\u001b[0m \u001b[38;5;28;01mreturn\u001b[39;00m \u001b[38;5;28mself\u001b[39m\u001b[38;5;241m.\u001b[39membedding_\n",
      "File \u001b[0;32m/opt/conda/lib/python3.10/site-packages/sklearn/manifold/_t_sne.py:1010\u001b[0m, in \u001b[0;36mTSNE._fit\u001b[0;34m(self, X, skip_num_points)\u001b[0m\n\u001b[1;32m   1004\u001b[0m \u001b[38;5;66;03m# Degrees of freedom of the Student's t-distribution. The suggestion\u001b[39;00m\n\u001b[1;32m   1005\u001b[0m \u001b[38;5;66;03m# degrees_of_freedom = n_components - 1 comes from\u001b[39;00m\n\u001b[1;32m   1006\u001b[0m \u001b[38;5;66;03m# \"Learning a Parametric Embedding by Preserving Local Structure\"\u001b[39;00m\n\u001b[1;32m   1007\u001b[0m \u001b[38;5;66;03m# Laurens van der Maaten, 2009.\u001b[39;00m\n\u001b[1;32m   1008\u001b[0m degrees_of_freedom \u001b[38;5;241m=\u001b[39m \u001b[38;5;28mmax\u001b[39m(\u001b[38;5;28mself\u001b[39m\u001b[38;5;241m.\u001b[39mn_components \u001b[38;5;241m-\u001b[39m \u001b[38;5;241m1\u001b[39m, \u001b[38;5;241m1\u001b[39m)\n\u001b[0;32m-> 1010\u001b[0m \u001b[38;5;28;01mreturn\u001b[39;00m \u001b[38;5;28;43mself\u001b[39;49m\u001b[38;5;241;43m.\u001b[39;49m\u001b[43m_tsne\u001b[49m\u001b[43m(\u001b[49m\n\u001b[1;32m   1011\u001b[0m \u001b[43m    \u001b[49m\u001b[43mP\u001b[49m\u001b[43m,\u001b[49m\n\u001b[1;32m   1012\u001b[0m \u001b[43m    \u001b[49m\u001b[43mdegrees_of_freedom\u001b[49m\u001b[43m,\u001b[49m\n\u001b[1;32m   1013\u001b[0m \u001b[43m    \u001b[49m\u001b[43mn_samples\u001b[49m\u001b[43m,\u001b[49m\n\u001b[1;32m   1014\u001b[0m \u001b[43m    \u001b[49m\u001b[43mX_embedded\u001b[49m\u001b[38;5;241;43m=\u001b[39;49m\u001b[43mX_embedded\u001b[49m\u001b[43m,\u001b[49m\n\u001b[1;32m   1015\u001b[0m \u001b[43m    \u001b[49m\u001b[43mneighbors\u001b[49m\u001b[38;5;241;43m=\u001b[39;49m\u001b[43mneighbors_nn\u001b[49m\u001b[43m,\u001b[49m\n\u001b[1;32m   1016\u001b[0m \u001b[43m    \u001b[49m\u001b[43mskip_num_points\u001b[49m\u001b[38;5;241;43m=\u001b[39;49m\u001b[43mskip_num_points\u001b[49m\u001b[43m,\u001b[49m\n\u001b[1;32m   1017\u001b[0m \u001b[43m\u001b[49m\u001b[43m)\u001b[49m\n",
      "File \u001b[0;32m/opt/conda/lib/python3.10/site-packages/sklearn/manifold/_t_sne.py:1062\u001b[0m, in \u001b[0;36mTSNE._tsne\u001b[0;34m(self, P, degrees_of_freedom, n_samples, X_embedded, neighbors, skip_num_points)\u001b[0m\n\u001b[1;32m   1059\u001b[0m \u001b[38;5;66;03m# Learning schedule (part 1): do 250 iteration with lower momentum but\u001b[39;00m\n\u001b[1;32m   1060\u001b[0m \u001b[38;5;66;03m# higher learning rate controlled via the early exaggeration parameter\u001b[39;00m\n\u001b[1;32m   1061\u001b[0m P \u001b[38;5;241m*\u001b[39m\u001b[38;5;241m=\u001b[39m \u001b[38;5;28mself\u001b[39m\u001b[38;5;241m.\u001b[39mearly_exaggeration\n\u001b[0;32m-> 1062\u001b[0m params, kl_divergence, it \u001b[38;5;241m=\u001b[39m \u001b[43m_gradient_descent\u001b[49m\u001b[43m(\u001b[49m\u001b[43mobj_func\u001b[49m\u001b[43m,\u001b[49m\u001b[43m \u001b[49m\u001b[43mparams\u001b[49m\u001b[43m,\u001b[49m\u001b[43m \u001b[49m\u001b[38;5;241;43m*\u001b[39;49m\u001b[38;5;241;43m*\u001b[39;49m\u001b[43mopt_args\u001b[49m\u001b[43m)\u001b[49m\n\u001b[1;32m   1063\u001b[0m \u001b[38;5;28;01mif\u001b[39;00m \u001b[38;5;28mself\u001b[39m\u001b[38;5;241m.\u001b[39mverbose:\n\u001b[1;32m   1064\u001b[0m     \u001b[38;5;28mprint\u001b[39m(\n\u001b[1;32m   1065\u001b[0m         \u001b[38;5;124m\"\u001b[39m\u001b[38;5;124m[t-SNE] KL divergence after \u001b[39m\u001b[38;5;132;01m%d\u001b[39;00m\u001b[38;5;124m iterations with early exaggeration: \u001b[39m\u001b[38;5;132;01m%f\u001b[39;00m\u001b[38;5;124m\"\u001b[39m\n\u001b[1;32m   1066\u001b[0m         \u001b[38;5;241m%\u001b[39m (it \u001b[38;5;241m+\u001b[39m \u001b[38;5;241m1\u001b[39m, kl_divergence)\n\u001b[1;32m   1067\u001b[0m     )\n",
      "File \u001b[0;32m/opt/conda/lib/python3.10/site-packages/sklearn/manifold/_t_sne.py:399\u001b[0m, in \u001b[0;36m_gradient_descent\u001b[0;34m(objective, p0, it, n_iter, n_iter_check, n_iter_without_progress, momentum, learning_rate, min_gain, min_grad_norm, verbose, args, kwargs)\u001b[0m\n\u001b[1;32m    396\u001b[0m \u001b[38;5;66;03m# only compute the error when needed\u001b[39;00m\n\u001b[1;32m    397\u001b[0m kwargs[\u001b[38;5;124m\"\u001b[39m\u001b[38;5;124mcompute_error\u001b[39m\u001b[38;5;124m\"\u001b[39m] \u001b[38;5;241m=\u001b[39m check_convergence \u001b[38;5;129;01mor\u001b[39;00m i \u001b[38;5;241m==\u001b[39m n_iter \u001b[38;5;241m-\u001b[39m \u001b[38;5;241m1\u001b[39m\n\u001b[0;32m--> 399\u001b[0m error, grad \u001b[38;5;241m=\u001b[39m \u001b[43mobjective\u001b[49m\u001b[43m(\u001b[49m\u001b[43mp\u001b[49m\u001b[43m,\u001b[49m\u001b[43m \u001b[49m\u001b[38;5;241;43m*\u001b[39;49m\u001b[43margs\u001b[49m\u001b[43m,\u001b[49m\u001b[43m \u001b[49m\u001b[38;5;241;43m*\u001b[39;49m\u001b[38;5;241;43m*\u001b[39;49m\u001b[43mkwargs\u001b[49m\u001b[43m)\u001b[49m\n\u001b[1;32m    401\u001b[0m inc \u001b[38;5;241m=\u001b[39m update \u001b[38;5;241m*\u001b[39m grad \u001b[38;5;241m<\u001b[39m \u001b[38;5;241m0.0\u001b[39m\n\u001b[1;32m    402\u001b[0m dec \u001b[38;5;241m=\u001b[39m np\u001b[38;5;241m.\u001b[39minvert(inc)\n",
      "File \u001b[0;32m/opt/conda/lib/python3.10/site-packages/sklearn/manifold/_t_sne.py:280\u001b[0m, in \u001b[0;36m_kl_divergence_bh\u001b[0;34m(params, P, degrees_of_freedom, n_samples, n_components, angle, skip_num_points, verbose, compute_error, num_threads)\u001b[0m\n\u001b[1;32m    277\u001b[0m indptr \u001b[38;5;241m=\u001b[39m P\u001b[38;5;241m.\u001b[39mindptr\u001b[38;5;241m.\u001b[39mastype(np\u001b[38;5;241m.\u001b[39mint64, copy\u001b[38;5;241m=\u001b[39m\u001b[38;5;28;01mFalse\u001b[39;00m)\n\u001b[1;32m    279\u001b[0m grad \u001b[38;5;241m=\u001b[39m np\u001b[38;5;241m.\u001b[39mzeros(X_embedded\u001b[38;5;241m.\u001b[39mshape, dtype\u001b[38;5;241m=\u001b[39mnp\u001b[38;5;241m.\u001b[39mfloat32)\n\u001b[0;32m--> 280\u001b[0m error \u001b[38;5;241m=\u001b[39m \u001b[43m_barnes_hut_tsne\u001b[49m\u001b[38;5;241;43m.\u001b[39;49m\u001b[43mgradient\u001b[49m\u001b[43m(\u001b[49m\n\u001b[1;32m    281\u001b[0m \u001b[43m    \u001b[49m\u001b[43mval_P\u001b[49m\u001b[43m,\u001b[49m\n\u001b[1;32m    282\u001b[0m \u001b[43m    \u001b[49m\u001b[43mX_embedded\u001b[49m\u001b[43m,\u001b[49m\n\u001b[1;32m    283\u001b[0m \u001b[43m    \u001b[49m\u001b[43mneighbors\u001b[49m\u001b[43m,\u001b[49m\n\u001b[1;32m    284\u001b[0m \u001b[43m    \u001b[49m\u001b[43mindptr\u001b[49m\u001b[43m,\u001b[49m\n\u001b[1;32m    285\u001b[0m \u001b[43m    \u001b[49m\u001b[43mgrad\u001b[49m\u001b[43m,\u001b[49m\n\u001b[1;32m    286\u001b[0m \u001b[43m    \u001b[49m\u001b[43mangle\u001b[49m\u001b[43m,\u001b[49m\n\u001b[1;32m    287\u001b[0m \u001b[43m    \u001b[49m\u001b[43mn_components\u001b[49m\u001b[43m,\u001b[49m\n\u001b[1;32m    288\u001b[0m \u001b[43m    \u001b[49m\u001b[43mverbose\u001b[49m\u001b[43m,\u001b[49m\n\u001b[1;32m    289\u001b[0m \u001b[43m    \u001b[49m\u001b[43mdof\u001b[49m\u001b[38;5;241;43m=\u001b[39;49m\u001b[43mdegrees_of_freedom\u001b[49m\u001b[43m,\u001b[49m\n\u001b[1;32m    290\u001b[0m \u001b[43m    \u001b[49m\u001b[43mcompute_error\u001b[49m\u001b[38;5;241;43m=\u001b[39;49m\u001b[43mcompute_error\u001b[49m\u001b[43m,\u001b[49m\n\u001b[1;32m    291\u001b[0m \u001b[43m    \u001b[49m\u001b[43mnum_threads\u001b[49m\u001b[38;5;241;43m=\u001b[39;49m\u001b[43mnum_threads\u001b[49m\u001b[43m,\u001b[49m\n\u001b[1;32m    292\u001b[0m \u001b[43m\u001b[49m\u001b[43m)\u001b[49m\n\u001b[1;32m    293\u001b[0m c \u001b[38;5;241m=\u001b[39m \u001b[38;5;241m2.0\u001b[39m \u001b[38;5;241m*\u001b[39m (degrees_of_freedom \u001b[38;5;241m+\u001b[39m \u001b[38;5;241m1.0\u001b[39m) \u001b[38;5;241m/\u001b[39m degrees_of_freedom\n\u001b[1;32m    294\u001b[0m grad \u001b[38;5;241m=\u001b[39m grad\u001b[38;5;241m.\u001b[39mravel()\n",
      "\u001b[0;31mKeyboardInterrupt\u001b[0m: "
     ]
    }
   ],
   "source": [
    "model_data = pd.DataFrame()\n",
    "model_size = {'Unigram':1, 'Bigram':2, 'Trigram':3}\n",
    "k_values = [1,0.15, .10]\n",
    "                                                \n",
    "for ms in model_size:\n",
    "    for k_val in k_values:\n",
    "        #print (ms)\n",
    "        #print(model_size[ms])\n",
    "        #print(k_val)\n",
    "        \n",
    "        TF_IDF_output = TF_IDF(raw_data['tweet'],model_size[ms] , k_val)\n",
    "        TSNE_output = TSNE_Process(TF_IDF_output, ms, k_val)\n",
    "        model_data = pd.concat([build_model(TSNE_output), model_data], axis = 0)\n",
    "model_data.to_csv(\"Data/TSNE_Model.csv\")\n",
    "        #print(model_data)\n"
   ]
  },
  {
   "cell_type": "code",
   "execution_count": null,
   "metadata": {
    "collapsed": false,
    "jupyter": {
     "outputs_hidden": false
    },
    "tags": []
   },
   "outputs": [],
   "source": [
    "def color_graph(model_data, plot_title = \"\"):\n",
    "    grid = sns.FacetGrid(model_data, col = 'gram_size',\\\n",
    "                        row = 'k', margin_titles=True,\\\n",
    "                        height=6, aspect=1)\n",
    "    grid.map(sns.scatterplot, \"x\",\"y\", legend=\"full\" , alpha=0.7)\n",
    "\n",
    "    #print(model_data['predict'].value_counts())\n",
    "    return \n",
    "#print(model_data['x'])\n",
    "model_data = pd.read_csv(\"Data/TSNE_Model.csv\")\n",
    "color_graph(model_data, \"EDA TSNE Results\")"
   ]
  },
  {
   "cell_type": "markdown",
   "metadata": {},
   "source": [
    "## TSNE Results\n",
    "\n",
    "TSNE using both unigrams and bigrams seems to have the same results.  A ring with some spread data and a very tight core.  Just looking at some random results from each category, the groupings might be a division of hate speech vs offensive language.\n",
    "\n",
    "## Initial Algorithim\n",
    "I chose to use the data that had undergone T-SNE to try and get a result.  I found that just paring down the data to 2 columns with bigrams I can create a model with a  70% precision.  This algorithim ignores the Also, although I didn't implement a fix action, the 34% for unigrams is likely just mis-assigned variables and could be higher.  I'll do a more comprehensive solution when I go further down this rabbit hole.\n"
   ]
  },
  {
   "cell_type": "code",
   "execution_count": null,
   "metadata": {
    "collapsed": false,
    "jupyter": {
     "outputs_hidden": false
    },
    "tags": []
   },
   "outputs": [],
   "source": [
    "def makeScores(d1, d2, text):\n",
    "    print(text + \":  Raw Precision: \" + str(precision_score(d1, d2, average = 'micro')) + \\\n",
    "          \", Weighted Precision: \" + str(precision_score(d1, d2, average = 'weighted')) + \\\n",
    "         \", Weighted Recall: \" + str(recall_score(d1, d2, average = 'weighted')) +\\\n",
    "         \", Weghted F1: \" + str(f1_score(d1, d2, average = 'weighted')))\n",
    "for ms in model_size:\n",
    "    for k_val in k_values:\n",
    "        makeScores(model_data[(model_data['gram_size'] == ms)\\\n",
    "                              & (model_data['k'] == k_val)]['predict'],\\\n",
    "                   raw_data['class'], str(ms) + \" k = \" + str(k_val))\n",
    "#Cleanup for Memory\n",
    "model_data = None"
   ]
  },
  {
   "cell_type": "markdown",
   "metadata": {},
   "source": [
    "## Model Building\n",
    "\n",
    "I'm going to start with a DBSCAN model.  This is a popular model for text categorization and with the large doughnut hole in the middle of the data, I'm going to see if I can get the 2 blocks of data and test the results.\n",
    "\n",
    "### K-Means\n",
    "K-Means is an algorithim that tries to categorize the data by identifying centroids around a fixed number of groups of data with a fixed distance to the mean.\n",
    "\n",
    "### Density-Based Spatial Clustering of Applications with Noise (DBSCAN)\n",
    "\n",
    "DBSCAN or Density-Based Spatial Clustering of Applications with Noise is a clustering algorithm that uses the density of data points to classify objects.  DBSCAN only has 2 values that can be tuned.  The EPS or distance to look to find groupings of points, and the K_Value or number of points to be considered a grouping.  Conveniently, DBSCAN can be used to predict new points as well.\n",
    "\n",
    "### DBSCAN Optimization\n",
    "I used a combination of ChatGPT recommendations (No Code though), and https://medium.com/@mohantysandip/a-step-by-step-approach-to-solve-dbscan-algorithms-by-tuning-its-hyper-parameters-93e693a91289 to make a process to find optomal parameters.  The process contains many steps.\n",
    "1. Determine the optimal number of clusters.\n",
    "\n",
    "### Principal Component Analasys (PCA)\n",
    "PCA is a dimmensional reduction algorithim that is used to shrink very wide data to narrower data.  This will be used to shrink the data and find patterns and manage the size of the model.\n"
   ]
  },
  {
   "cell_type": "markdown",
   "metadata": {},
   "source": [
    "#### 1. K-Means Clustering Tests\n",
    "Cluster number will be determined with K-Means and a silhouette score.  The silhouette score is an average of the density of the clusters.  Higher is better.\n",
    "\n",
    "Initial Testing will be done using Bigrams with a TF_IDF Max document frequency of .15.\n",
    "\n",
    "Here we find a peak silhouette score at 27 clusters, which means that the optimal number of clusters would be around 27.  The Silhouette Score of .007 clearly demonstrates that K-Means is unsutable for this data.\n",
    "\n",
    "This algorithim will be tested with PCA'd data when applicable."
   ]
  },
  {
   "cell_type": "code",
   "execution_count": null,
   "metadata": {
    "tags": []
   },
   "outputs": [],
   "source": [
    "svd_data_components = [25, 50, 100, 200, 300, 400]\n",
    "svd_data = {}\n",
    "for i in svd_data_components:\n",
    "    svd_data[i] = cusvds(cusparse.csr_matrix(TF_IDF(raw_data['tweet'], 2, .15)), k = i)[0]\n",
    "    sparse.save_npz(\"SVD_Data/\" + str(i) + \".npz\", sparse.csr_matrix(svd_data[i].get()))\n",
    "print(type(svd_data[25]))"
   ]
  },
  {
   "cell_type": "code",
   "execution_count": 58,
   "metadata": {
    "tags": []
   },
   "outputs": [],
   "source": [
    "svd_data_components = [25, 50, 100, 200, 300, 400]\n",
    "svd_data = {}\n",
    "for i in svd_data_components:\n",
    "    svd_data[i] = sparse.load_npz(\"SVD_Data/\" + str(i) + \".npz\").todense()\n"
   ]
  },
  {
   "cell_type": "code",
   "execution_count": null,
   "metadata": {
    "collapsed": false,
    "jupyter": {
     "outputs_hidden": false
    },
    "tags": []
   },
   "outputs": [],
   "source": [
    "#Data is the input data.  Range_n_clusters is a list of n_cluster sizes to test\n",
    "#Ref https://cocalc.com/projects/af4af50d-ae0c-4e0d-952d-a06faaf430a4/files/Unsupervised-Learning-Final/Hate%20Speach%20Detection.ipynb#id=1bb809\n",
    "#Precompute SVD Data.  I will use it alot\n",
    "\n",
    "\n",
    "def k_means_silouette(svd_data, range_n_clusters):\n",
    "    #print(data)\n",
    "    s_scores = pd.DataFrame()\n",
    "    for svd_component in svd_data.keys():\n",
    "        svd_data_line = np.asarray(svd_data[svd_component])\n",
    "        for n_clusters in range_n_clusters:\n",
    "            cluster = cuml.KMeans(n_clusters = n_clusters)\n",
    "            cluster_lables = cupy.asnumpy(cluster.fit_predict(svd_data_line))\n",
    "            s_scores = pd.concat([s_scores,\\\n",
    "                                  pd.Series([n_clusters ,silhouette_score(svd_data_line, cluster_lables)\\\n",
    "                                                , svd_component], index = [\"k_centroids\", \"silhouette_score\"\\\n",
    "                                                                              , \"svd_components\"])], axis = 1)\n",
    "    return s_scores.T\n",
    "\n",
    "test_range_n_clusters = range(10, 200, 10)\n",
    "s_scores = k_means_silouette(svd_data, test_range_n_clusters)\n",
    "print(s_scores)\n",
    "#test_range_n_clusters = range(15, 35, 2)\n",
    "#k_means_silouette(TF_IDF(raw_data['tweet'], 2, .15), test_range_n_clusters, [25, 50, 100, 200, 300, 400])\n",
    "s_scores.to_csv(\"Data/s_scores.csv\")                                                                              \n",
    "                                                                             "
   ]
  },
  {
   "cell_type": "code",
   "execution_count": null,
   "metadata": {
    "tags": []
   },
   "outputs": [],
   "source": [
    "s_scores = pd.read_csv(\"Data/s_scores.csv\")\n",
    "plot = sns.FacetGrid(data = s_scores, col = \"svd_components\")\n",
    "plot.map(sns.lineplot, \"k_centroids\", \"silhouette_score\")\n",
    "plot.set(xlabel=\"Number of Centroids\", ylabel=\"Silhouette Score\")\n",
    "plot.fig.suptitle(\"SVD K_Values\") "
   ]
  },
  {
   "cell_type": "code",
   "execution_count": 57,
   "metadata": {
    "tags": []
   },
   "outputs": [
    {
     "data": {
      "text/plain": [
       "matrix([[ 1.31310959e-05, -4.39231204e-05,  2.12843434e-04, ...,\n",
       "          1.19911742e-05,  2.97590139e-07, -4.45269109e-07],\n",
       "        [ 6.85892539e-04,  3.13216126e-04, -2.14833534e-04, ...,\n",
       "          4.14012868e-06,  1.50366376e-06, -1.18779196e-06],\n",
       "        [ 3.11565399e-04,  1.74416469e-03, -1.39818484e-04, ...,\n",
       "          1.57987741e-02,  2.44630804e-04, -7.18147857e-05],\n",
       "        ...,\n",
       "        [ 4.51612443e-03, -3.21606360e-03, -2.25110922e-03, ...,\n",
       "          2.57123750e-04,  2.34530531e-04, -1.06959123e-05],\n",
       "        [ 5.28047659e-06,  1.19536839e-05, -3.37879125e-06, ...,\n",
       "          1.35041289e-08,  1.41049488e-09, -9.55504719e-11],\n",
       "        [-1.55150798e-06, -1.05402247e-05, -4.67803773e-05, ...,\n",
       "          1.99431735e-07,  1.17555184e-06, -2.97190697e-08]])"
      ]
     },
     "execution_count": 57,
     "metadata": {},
     "output_type": "execute_result"
    }
   ],
   "source": [
    "svd_data[200]"
   ]
  },
  {
   "cell_type": "markdown",
   "metadata": {},
   "source": [
    "### DBSCAN Analysis\n",
    "The first step of DBSCAN analyst is visualizing pairwise distances.  This means that we want to find the distance between a point and the next nearest point.  By finding this distance, we can find where the distance starts to increase sharply and use the \"elbow\" to find the optimal eps value.\n",
    "\n",
    "#### Limitations\n"
   ]
  },
  {
   "cell_type": "code",
   "execution_count": null,
   "metadata": {
    "collapsed": false,
    "jupyter": {
     "outputs_hidden": false
    },
    "tags": []
   },
   "outputs": [],
   "source": [
    "def calculate_optimal_eps(svd_data, k_neighbors, SVD_n_components = 0):\n",
    "    distnaces = pd.DataFrame()\n",
    "    for svd_component in svd_data.keys():\n",
    "        #print(n_component)\n",
    "        #svd_data = sparse.csr_matrix(cuml.TruncatedSVD(n_component)\\\n",
    "                                     #.fit_transform(data))\n",
    "        svd_data_component = svd_data[svd_component]\n",
    "        #print(\"tsvd complete\")\n",
    "        neighbors = cuml.NearestNeighbors(n_neighbors = k_neighbors)\n",
    "        neighbors.fit(svd_data_component)\n",
    "        #print(\"knn_fit_complete\")\n",
    "        distances, indices = neighbors.kneighbors(svd_data_component)\n",
    "        #print(\"distance calc complete\")\n",
    "        kth_distance = kth_distances = distances[:, -1]\n",
    "        sorted_distances = np.sort(kth_distance)\n",
    "        #print(\"sortcomplete\")\n",
    "        sd = pd.DataFrame()\n",
    "        #print(type(cupy.asnumpy(sorted_distances)))\n",
    "        sd['distance'] = cupy.asnumpy(sorted_distances)\n",
    "        #print(list(range(0,sd.shape[0])))\n",
    "        sd['y'] = list(range(0,sd.shape[0]))\n",
    "        sd['svd_component'] = svd_component\n",
    "        distnaces = pd.concat([distnaces, sd])\n",
    "        fig, ax = plt.subplots(figsize=(3, 3))\n",
    "        \n",
    "        sns.lineplot(y = sd['distance'], x  = sd['y'], ax = ax).set_title(\"EPS Chart \" + str(svd_component))\n",
    "\n",
    "    \n",
    "calculate_optimal_eps(svd_data, 5, [25, 50, 100, 200, 400])\n"
   ]
  },
  {
   "cell_type": "code",
   "execution_count": null,
   "metadata": {},
   "outputs": [],
   "source": [
    "\n",
    "distnaces.to_csv(\"Data/optimal_eps.csv\")\n",
    "\n",
    "fig, ax = plt.subplots(figsize=(5, 5))\n",
    "sns.lineplot(y = distnaces['distance'], x  = distnaces['y']\\\n",
    "             , hue = distnaces['svd_component'], ax = ax)"
   ]
  },
  {
   "cell_type": "markdown",
   "metadata": {},
   "source": [
    "This took over an hour, but I have good data."
   ]
  },
  {
   "cell_type": "code",
   "execution_count": 34,
   "metadata": {
    "collapsed": false,
    "jupyter": {
     "outputs_hidden": false
    },
    "tags": []
   },
   "outputs": [
    {
     "name": "stdout",
     "output_type": "stream",
     "text": [
      "running for Component: 25\n",
      "0:11:29.374950\n",
      "running for Component: 50\n",
      "0:12:47.667500\n",
      "running for Component: 100\n",
      "0:13:40.892220\n",
      "running for Component: 200\n",
      "0:16:15.484847\n",
      "running for Component: 400\n",
      "0:21:00.809165\n"
     ]
    }
   ],
   "source": [
    "#EPS Test will generate SVD score chart.  Inputs will be data, a list of eps_values, and \\\n",
    "#a list of SVD_n_component values\n",
    "\n",
    "def EPS_silhouette(svd_data, SVD_n_components):\n",
    "    results = pd.DataFrame()\n",
    "    for svd_component in SVD_n_components.keys():\n",
    "        now = datetime.datetime.now()\n",
    "        print(\"running for Component: \" + str(svd_component))\n",
    "        current_data = svd_data[svd_component]\n",
    "        eps_min, eps_max = SVD_n_components[svd_component]\n",
    "        eps_values = list(np.arange(eps_min, eps_max, (eps_max-eps_min)/15))\n",
    "        for eps in eps_values:\n",
    "            #print(eps)\n",
    "            sample_values = [5,10,20,50,100,200]\n",
    "            for sample_value in sample_values:\n",
    "                dbs = cuml.DBSCAN(eps = eps, min_samples = sample_value).fit(current_data)\n",
    "                #print(\"dbscan complete\")\n",
    "                core_sample_mask = np.zeros_like(dbs.labels_, dtype=bool)\n",
    "                core_sample_mask[dbs.core_sample_indices_] = True\n",
    "                item_res = pd.Series()\n",
    "                item_res['num_labels'] = dbs.labels_.max()\n",
    "                #print(Counter(list(dbs.labels_.tolist())).keys())\n",
    "                if len(Counter(list(dbs.labels_.tolist())).keys()) == 1:\n",
    "                    item_res['silhouette'] = 0\n",
    "                else:\n",
    "                    item_res['silhouette'] = silhouette_score(cupy.asnumpy(current_data), cupy.asnumpy(dbs.labels_))\n",
    "\n",
    "                #print(\"silhouette score complete\")\n",
    "                item_res['eps'] = eps\n",
    "                item_res['comp'] = svd_component\n",
    "                item_res['sample_value'] = sample_value\n",
    "                results = pd.concat([results, item_res], axis = 1)\n",
    "        print(datetime.datetime.now()-now)\n",
    "\n",
    "    return results.T\n",
    "eps_silhouette_data = EPS_silhouette(svd_data, {25: (0.0,.020), 50:(.005, .05), 100:(.005, .05), 200:(.02, .07), 400:(.05, .20)})\n",
    "eps_silhouette_data.to_csv('Data/eps_silhouette_data.csv')"
   ]
  },
  {
   "cell_type": "code",
   "execution_count": 54,
   "metadata": {
    "collapsed": false,
    "jupyter": {
     "outputs_hidden": false
    },
    "tags": []
   },
   "outputs": [
    {
     "data": {
      "text/plain": [
       "Text(0, 0.5, 'Silhouette Score')"
      ]
     },
     "execution_count": 54,
     "metadata": {},
     "output_type": "execute_result"
    },
    {
     "data": {
      "image/png": "[encoded data removed]",
      "text/plain": [
       "<Figure size 800x500 with 1 Axes>"
      ]
     },
     "metadata": {},
     "output_type": "display_data"
    }
   ],
   "source": [
    "eps_silhouette_data = pd.read_csv('Data/eps_silhouette_data.csv')\n",
    "eps_silhouette_data['DBSCAN Min Samples'] = eps_silhouette_data['sample_value'].astype(int)\n",
    "eps_silhouette_data['SVD Component Analasys'] = eps_silhouette_data['comp'].astype(int)\n",
    "eps_silhouette_data['Number of Clusters'] = eps_silhouette_data['num_labels'].astype(int)\n",
    "eps_silhouette_data  = eps_silhouette_data.drop(columns = ['sample_value', 'comp', 'Unnamed: 0', 'num_labels'])\n",
    "fig, ax = plt.subplots(figsize=(8, 5))\n",
    "#print(eps_silhouette_data)\n",
    "plot1 = sns.scatterplot(data = eps_silhouette_data, x ='eps', \\\n",
    "                        y ='silhouette', hue ='DBSCAN Min Samples', \\\n",
    "                        style = 'SVD Component Analasys', ax = ax)\n",
    "plot1.set_xlabel(\"EPS Value\")\n",
    "plot1.set_ylabel(\"Silhouette Score\")"
   ]
  },
  {
   "cell_type": "code",
   "execution_count": 55,
   "metadata": {},
   "outputs": [
    {
     "name": "stdout",
     "output_type": "stream",
     "text": [
      "silhouette                 0.860339\n",
      "eps                        0.013333\n",
      "DBSCAN Min Samples        20.000000\n",
      "SVD Component Analasys    25.000000\n",
      "Number of Clusters        17.000000\n",
      "Name: 62, dtype: float64\n",
      "silhouette                 0.817554\n",
      "eps                        0.047000\n",
      "DBSCAN Min Samples        50.000000\n",
      "SVD Component Analasys    50.000000\n",
      "Number of Clusters         0.000000\n",
      "Name: 177, dtype: float64\n",
      "silhouette                  0.700222\n",
      "eps                         0.026000\n",
      "DBSCAN Min Samples          5.000000\n",
      "SVD Component Analasys    100.000000\n",
      "Number of Clusters        125.000000\n",
      "Name: 222, dtype: float64\n",
      "silhouette                  0.616560\n",
      "eps                         0.066667\n",
      "DBSCAN Min Samples         50.000000\n",
      "SVD Component Analasys    200.000000\n",
      "Number of Clusters          0.000000\n",
      "Name: 357, dtype: float64\n",
      "silhouette                  0.671024\n",
      "eps                         0.190000\n",
      "DBSCAN Min Samples         20.000000\n",
      "SVD Component Analasys    400.000000\n",
      "Number of Clusters          0.000000\n",
      "Name: 446, dtype: float64\n"
     ]
    }
   ],
   "source": [
    "for comp in [25, 50, 100, 200, 400]:\n",
    "    df = eps_silhouette_data[eps_silhouette_data['SVD Component Analasys'] == comp]\n",
    "    print(df.loc[df['silhouette'].idxmax()])"
   ]
  },
  {
   "cell_type": "code",
   "execution_count": 43,
   "metadata": {
    "tags": []
   },
   "outputs": [
    {
     "name": "stdout",
     "output_type": "stream",
     "text": [
      "silhouette                 0.860339\n",
      "eps                        0.013333\n",
      "DBSCAN Min Samples        20.000000\n",
      "SVD Component Analasys    25.000000\n",
      "Number of Clusters        17.000000\n",
      "Name: 62, dtype: float64\n",
      "silhouette                 0.811964\n",
      "eps                        0.014000\n",
      "DBSCAN Min Samples         5.000000\n",
      "SVD Component Analasys    50.000000\n",
      "Number of Clusters        84.000000\n",
      "Name: 108, dtype: float64\n",
      "silhouette                  0.700222\n",
      "eps                         0.026000\n",
      "DBSCAN Min Samples          5.000000\n",
      "SVD Component Analasys    100.000000\n",
      "Number of Clusters        125.000000\n",
      "Name: 222, dtype: float64\n",
      "silhouette                  0.599186\n",
      "eps                         0.040000\n",
      "DBSCAN Min Samples          5.000000\n",
      "SVD Component Analasys    200.000000\n",
      "Number of Clusters        199.000000\n",
      "Name: 306, dtype: float64\n",
      "silhouette                  0.537129\n",
      "eps                         0.130000\n",
      "DBSCAN Min Samples         10.000000\n",
      "SVD Component Analasys    400.000000\n",
      "Number of Clusters         13.000000\n",
      "Name: 409, dtype: float64\n",
      "     silhouette       eps  DBSCAN Min Samples  SVD Component Analasys  \\\n",
      "62     0.860339  0.013333                20.0                    25.0   \n",
      "108    0.811964  0.014000                 5.0                    50.0   \n",
      "222    0.700222  0.026000                 5.0                   100.0   \n",
      "306    0.599186  0.040000                 5.0                   200.0   \n",
      "409    0.537129  0.130000                10.0                   400.0   \n",
      "\n",
      "     Number of Clusters  \n",
      "62                 17.0  \n",
      "108                84.0  \n",
      "222               125.0  \n",
      "306               199.0  \n",
      "409                13.0  \n"
     ]
    }
   ],
   "source": [
    "max_silhouette = pd.DataFrame()\n",
    "for comp in [25, 50, 100, 200, 400]:\n",
    "    df = eps_silhouette_data[(eps_silhouette_data['SVD Component Analasys'] == comp) & (eps_silhouette_data['Number of Clusters'] > 0)]\n",
    "    max_silhouette = pd.concat([max_silhouette, df.loc[df['silhouette'].idxmax()]], axis = 1)\n",
    "    print(df.loc[df['silhouette'].idxmax()])\n",
    "max_silhouette = max_silhouette.T\n",
    "print(max_silhouette)"
   ]
  },
  {
   "cell_type": "markdown",
   "metadata": {},
   "source": [
    "## Final Model Build"
   ]
  },
  {
   "cell_type": "code",
   "execution_count": 113,
   "metadata": {
    "tags": []
   },
   "outputs": [
    {
     "name": "stdout",
     "output_type": "stream",
     "text": [
      "Test for SVD of 25\n",
      "0.7748860105717629\n",
      "Counter({1.0: 24702, 0.0: 81})\n",
      "Test for SVD of 50\n",
      "0.7769842230561271\n",
      "Counter({1.0: 24624, 0.0: 89, 2.0: 70})\n",
      "Test for SVD of 100\n",
      "0.7776701771375539\n",
      "Counter({1.0: 24605, 2.0: 89, 0.0: 89})\n",
      "Test for SVD of 200\n",
      "0.7803736432231771\n",
      "Counter({1.0: 24526, 2.0: 170, 0.0: 87})\n",
      "Test for SVD of 400\n",
      "0.7768228220957915\n",
      "Counter({1.0: 24717, 2.0: 66})\n"
     ]
    }
   ],
   "source": [
    "final_models = {}\n",
    "\n",
    "for comp in [25, 50, 100, 200, 400]:\n",
    "    df = max_silhouette[max_silhouette['SVD Component Analasys'] == comp].squeeze('rows')\n",
    "    svd_data_component = svd_data[df['SVD Component Analasys']]\n",
    "    dbs = cuml.DBSCAN(eps = df.eps, min_samples = df['DBSCAN Min Samples']).fit(svd_data_component)\n",
    "    lables = pd.DataFrame(dbs.labels_)\n",
    "    max_label = dbs.labels_.max()\n",
    "    for row in range(-1, dbs.labels_.max()+1):\n",
    "        test_row = raw_data.iloc[lables[lables[0] == row].index.tolist()]['class']\n",
    "        max_score = 0.0\n",
    "        max_val = -1 \n",
    "        for test_val in range(0,3):\n",
    "            score = precision_score([test_val]*len(test_row), test_row, average = 'micro')\n",
    "            if score > max_score:\n",
    "                max_score = score\n",
    "                max_val = test_val\n",
    "        #print(max_score, max_val)\n",
    "        raw_data.loc[lables[lables[0] == row].index.tolist(), 'train_predict'] = max_val\n",
    "    print(\"Test for SVD of \" + str(comp))\n",
    "    print(precision_score(raw_data['class'], raw_data['train_predict'], average = 'micro'))\n",
    "    #Test for all 1's\n",
    "    print(Counter(raw_data['train_predict']))\n",
    "    #print(raw_data.iloc[lables[lables[0] == row].index.tolist()])\n",
    "    #print(test_row)"
   ]
  },
  {
   "cell_type": "markdown",
   "metadata": {
    "tags": []
   },
   "source": [
    "Precision Score if all 1's is 77.432%"
   ]
  },
  {
   "cell_type": "code",
   "execution_count": null,
   "metadata": {},
   "outputs": [],
   "source": []
  }
 ],
 "metadata": {
  "kernelspec": {
   "display_name": "Python 3 (ipykernel)",
   "language": "python",
   "name": "python3"
  },
  "language_info": {
   "codemirror_mode": {
    "name": "ipython",
    "version": 3
   },
   "file_extension": ".py",
   "mimetype": "text/x-python",
   "name": "python",
   "nbconvert_exporter": "python",
   "pygments_lexer": "ipython3",
   "version": "3.10.12"
  }
 },
 "nbformat": 4,
 "nbformat_minor": 4
}
